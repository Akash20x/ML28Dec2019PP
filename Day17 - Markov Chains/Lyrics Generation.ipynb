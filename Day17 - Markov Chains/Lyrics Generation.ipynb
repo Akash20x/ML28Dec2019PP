{
 "cells": [
  {
   "cell_type": "code",
   "execution_count": null,
   "metadata": {},
   "outputs": [],
   "source": [
    "text = \"the man was .... they .... then . ... the ,,,, they ... the \"\n",
    "\n",
    "X   ,   y   - freq\n",
    "the    \"_\"  -  3 \n",
    "the    \"y\" -  2\n",
    "the    \"n\"  - 1"
   ]
  },
  {
   "cell_type": "code",
   "execution_count": 46,
   "metadata": {},
   "outputs": [],
   "source": [
    "import numpy as np"
   ]
  },
  {
   "cell_type": "code",
   "execution_count": 11,
   "metadata": {},
   "outputs": [],
   "source": [
    "def generateTable(data, k = 4):\n",
    "    T = {}\n",
    "    for i in range(len(data) - k):\n",
    "        X = data[i:i+k]\n",
    "        y = data[i+k]\n",
    "        \n",
    "        if T.get(X) is None:\n",
    "            T[X] = {}\n",
    "            T[X][y] = 1\n",
    "        else:\n",
    "            if T[X].get(y) is None:\n",
    "                T[X][y] = 1\n",
    "            else:\n",
    "                T[X][y] +=1\n",
    "\n",
    "    return T"
   ]
  },
  {
   "cell_type": "code",
   "execution_count": 16,
   "metadata": {},
   "outputs": [],
   "source": [
    "data = \"dog is bitting hello hello helli dog is running\""
   ]
  },
  {
   "cell_type": "code",
   "execution_count": 18,
   "metadata": {},
   "outputs": [],
   "source": [
    "T = generateTable(data)"
   ]
  },
  {
   "cell_type": "code",
   "execution_count": 37,
   "metadata": {},
   "outputs": [],
   "source": [
    "def convertfreqIntoProb(T):\n",
    "\n",
    "    for kx in T.keys():\n",
    "        s = sum(list(T[kx].values()))\n",
    "        \n",
    "        for k in T[kx].keys():\n",
    "            T[kx][k] = T[kx][k]/s\n",
    "            \n",
    "    return T"
   ]
  },
  {
   "cell_type": "code",
   "execution_count": 39,
   "metadata": {},
   "outputs": [],
   "source": [
    "T = convertfreqIntoProb(T)"
   ]
  },
  {
   "cell_type": "code",
   "execution_count": 95,
   "metadata": {},
   "outputs": [],
   "source": [
    "with open(\"Lyrics Generation.py\") as f:\n",
    "    data = f.read().lower()"
   ]
  },
  {
   "cell_type": "code",
   "execution_count": 96,
   "metadata": {},
   "outputs": [
    {
     "name": "stdout",
     "output_type": "stream",
     "text": [
      "#!/usr/bin/env python\n",
      "# coding: utf-8\n",
      "\n",
      "# in[ ]:\n",
      "\n",
      "\n",
      "text = \"the man was .... they .... then . ... the ,,,, they ... the \"\n",
      "\n",
      "x   ,   y   - freq\n",
      "the    \"_\"  -  3 \n",
      "the    \"y\" -  2\n",
      "the    \"n\"  - 1\n",
      "\n",
      "\n",
      "# in[46]:\n",
      "\n",
      "\n",
      "import numpy as np\n",
      "\n",
      "\n",
      "# in[11]:\n",
      "\n",
      "\n",
      "def generatetable(data, k = 4):\n",
      "    t = {}\n",
      "    for i in range(len(data) - k):\n",
      "        x = data[i:i+k]\n",
      "        y = data[i+k]\n",
      "        \n",
      "        if t.get(x) is none:\n",
      "            t[x] = {}\n",
      "            t[x][y] = 1\n",
      "        else:\n",
      "            if t[x].get(y) is none:\n",
      "                t[x][y] = 1\n",
      "            else:\n",
      "                t[x][y] +=1\n",
      "\n",
      "    return t\n",
      "\n",
      "\n",
      "# in[16]:\n",
      "\n",
      "\n",
      "data = \"dog is bitting hello hello helli dog is running\"\n",
      "\n",
      "\n",
      "# in[18]:\n",
      "\n",
      "\n",
      "t = generatetable(data)\n",
      "\n",
      "\n",
      "# in[37]:\n",
      "\n",
      "\n",
      "def convertfreqintoprob(t):\n",
      "\n",
      "    for kx in t.keys():\n",
      "        s = sum(list(t[kx].values()))\n",
      "        \n",
      "        for k in t[kx].keys():\n",
      "            t[kx][k] = t[kx][k]/s\n",
      "            \n",
      "    return t\n",
      "\n",
      "\n",
      "# in[39]:\n",
      "\n",
      "\n",
      "t = convertfreqintoprob(t)\n",
      "\n",
      "\n",
      "# in[56]:\n",
      "\n",
      "\n",
      "with open(\"english_speech_2.txt\") as f:\n",
      "    data = f.read().lower()\n",
      "\n",
      "\n",
      "# in[57]:\n",
      "\n",
      "\n",
      "print(data)\n",
      "\n",
      "\n",
      "# in[58]:\n",
      "\n",
      "\n",
      "t = generatetable(data)\n",
      "t = convertfreqintoprob(t)\n",
      "\n",
      "\n",
      "# in[60]:\n",
      "\n",
      "\n",
      "len(t)\n",
      "\n",
      "\n",
      "# ## sampling\n",
      "\n",
      "# in[51]:\n",
      "\n",
      "\n",
      "l = [\"apple\", \"mango\", \"banana\", \"orange\"]\n",
      "probabs = [0.5, 0.3, 0.15, 0.05]\n",
      "\n",
      "\n",
      "# in[55]:\n",
      "\n",
      "\n",
      "for i in range(20):\n",
      "    print(np.random.choice(l, p=probabs) )\n",
      "\n",
      "\n",
      "# ## generate text\n",
      "\n",
      "# in[76]:\n",
      "\n",
      "\n",
      "def sample_next(ctx, t, k = 4):\n",
      "    ctx = ctx[-k:]\n",
      "    \n",
      "    if t.get(ctx) is none:\n",
      "        return \" \"\n",
      "    possible_chars = list(t[ctx].keys())\n",
      "    possible_porabs = list(t[ctx].values())\n",
      "    \n",
      "    return np.random.choice(possible_chars, p = possible_porabs)\n",
      "\n",
      "\n",
      "# in[86]:\n",
      "\n",
      "\n",
      "sample_next(\"the \", t)\n",
      "\n",
      "\n",
      "# in[92]:\n",
      "\n",
      "\n",
      "def generatetext(starting_sentence, t, k = 4, max_len = 2000):\n",
      "    sentence = starting_sentence\n",
      "\n",
      "    \n",
      "    for ix in range(max_len):\n",
      "        \n",
      "        next_char = sample_next(sentence, t, k )\n",
      "        sentence += next_char\n",
      "        \n",
      "    return sentence\n",
      "\n",
      "\n",
      "# in[94]:\n",
      "\n",
      "\n",
      "print(generatetext(\"dear\", t))\n",
      "\n",
      "\n",
      "# in[ ]:\n",
      "\n",
      "\n",
      "\n",
      "\n",
      "\n"
     ]
    }
   ],
   "source": [
    "print(data)"
   ]
  },
  {
   "cell_type": "code",
   "execution_count": 97,
   "metadata": {},
   "outputs": [],
   "source": [
    "T = generateTable(data)\n",
    "T = convertfreqIntoProb(T)"
   ]
  },
  {
   "cell_type": "code",
   "execution_count": 98,
   "metadata": {
    "scrolled": true
   },
   "outputs": [
    {
     "data": {
      "text/plain": [
       "947"
      ]
     },
     "execution_count": 98,
     "metadata": {},
     "output_type": "execute_result"
    }
   ],
   "source": [
    "len(T)"
   ]
  },
  {
   "cell_type": "markdown",
   "metadata": {},
   "source": [
    "## Sampling"
   ]
  },
  {
   "cell_type": "code",
   "execution_count": 99,
   "metadata": {},
   "outputs": [],
   "source": [
    "l = [\"apple\", \"mango\", \"banana\", \"orange\"]\n",
    "probabs = [0.5, 0.3, 0.15, 0.05]"
   ]
  },
  {
   "cell_type": "code",
   "execution_count": 100,
   "metadata": {},
   "outputs": [
    {
     "name": "stdout",
     "output_type": "stream",
     "text": [
      "apple\n",
      "banana\n",
      "banana\n",
      "mango\n",
      "mango\n",
      "banana\n",
      "apple\n",
      "mango\n",
      "apple\n",
      "apple\n",
      "apple\n",
      "apple\n",
      "mango\n",
      "mango\n",
      "orange\n",
      "apple\n",
      "apple\n",
      "apple\n",
      "banana\n",
      "banana\n"
     ]
    }
   ],
   "source": [
    "for i in range(20):\n",
    "    print(np.random.choice(l, p=probabs) )"
   ]
  },
  {
   "cell_type": "markdown",
   "metadata": {},
   "source": [
    "## Generate Text"
   ]
  },
  {
   "cell_type": "code",
   "execution_count": 101,
   "metadata": {},
   "outputs": [],
   "source": [
    "def sample_next(ctx, T, k = 4):\n",
    "    ctx = ctx[-k:]\n",
    "    \n",
    "    if T.get(ctx) is None:\n",
    "        return \" \"\n",
    "    possible_chars = list(T[ctx].keys())\n",
    "    possible_porabs = list(T[ctx].values())\n",
    "    \n",
    "    return np.random.choice(possible_chars, p = possible_porabs)"
   ]
  },
  {
   "cell_type": "code",
   "execution_count": 103,
   "metadata": {},
   "outputs": [
    {
     "data": {
      "text/plain": [
       "','"
      ]
     },
     "execution_count": 103,
     "metadata": {},
     "output_type": "execute_result"
    }
   ],
   "source": [
    "sample_next(\"the \", T)"
   ]
  },
  {
   "cell_type": "code",
   "execution_count": 106,
   "metadata": {},
   "outputs": [],
   "source": [
    "def generateText(starting_sentence, T, k = 4, max_len = 1000):\n",
    "    sentence = starting_sentence\n",
    "\n",
    "    \n",
    "    for ix in range(max_len):\n",
    "        \n",
    "        next_char = sample_next(sentence, T, k )\n",
    "        sentence += next_char\n",
    "        \n",
    "    return sentence"
   ]
  },
  {
   "cell_type": "code",
   "execution_count": 107,
   "metadata": {},
   "outputs": [
    {
     "name": "stdout",
     "output_type": "stream",
     "text": [
      "def convertfreqintoprobabs = list(t[ctx].keys():\n",
      "        \n",
      "    \"_\"  - 1\n",
      "\n",
      "\n",
      "# in[86]:\n",
      "\n",
      "\n",
      "text\n",
      "\n",
      "# in[57]:\n",
      "\n",
      "\n",
      "t = generatetext(\"dear\", t))\n",
      "\n",
      "\n",
      "# in[94]:\n",
      "\n",
      "\n",
      "def convertfreq\n",
      "the ,,,, they .... the     x = data[i:i+k]\n",
      "    ctx[-k:]\n",
      "    if t.get(x) is none:\n",
      "       for ix in range(len(data) - k):\n",
      "    possible_chars = list(t[kx][k] = t[kx][k]/s\n",
      "       return t\n",
      "\n",
      "\n",
      "# in[86]:\n",
      "\n",
      "\n",
      "print(np.random.choice(possible_porabs = [0.5, 0.05]\n",
      "\n",
      "\n",
      "# in[86]:\n",
      "\n",
      "\n",
      "sampling\n",
      "\n",
      "# in[51]:\n",
      "\n",
      "\n",
      "print(np.random.choice(possible_char = sample_next(sentence += next(sentence\n",
      "\n",
      "      return t\n",
      "\n",
      "\n",
      "# in[94]:\n",
      "\n",
      "\n",
      "data = f.read().lower()\n",
      "\n",
      "\n",
      "# ## sample_next(starting_sentence, t, k = 4):\n",
      "     possible_chars = list(t[ctx].values()))\n",
      "        \"y\" -  2\n",
      "the ,,,, they ... they .... they .... the    else:\n",
      "     for k in range\"]\n",
      "probabs)\n",
      "\n",
      "\n",
      "# in[37]:\n",
      "\n",
      "\n",
      "t = \"dog is none:\n",
      "     print(generatetext(\"the \"\n",
      "\n",
      "x   ,   y   - 1\n",
      "\n",
      "\n",
      "# in[76]:\n",
      "\n",
      "\n",
      "t = generatetext(\"dear\", t)\n",
      "\n",
      "\n",
      "# in[57]:\n",
      "\n",
      "\n",
      "with open(\"english_speech_2.txt\") as f:\n",
      "       t[x] = 1\n",
      "           for ix in range(len(data)\n",
      "\n",
      "\n",
      "\n"
     ]
    }
   ],
   "source": [
    "print(generateText(\"def \", T))"
   ]
  },
  {
   "cell_type": "code",
   "execution_count": null,
   "metadata": {},
   "outputs": [],
   "source": []
  }
 ],
 "metadata": {
  "kernelspec": {
   "display_name": "Python 3",
   "language": "python",
   "name": "python3"
  },
  "language_info": {
   "codemirror_mode": {
    "name": "ipython",
    "version": 3
   },
   "file_extension": ".py",
   "mimetype": "text/x-python",
   "name": "python",
   "nbconvert_exporter": "python",
   "pygments_lexer": "ipython3",
   "version": "3.7.4"
  }
 },
 "nbformat": 4,
 "nbformat_minor": 2
}
