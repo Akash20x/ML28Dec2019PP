{
 "cells": [
  {
   "cell_type": "code",
   "execution_count": 2,
   "metadata": {},
   "outputs": [],
   "source": [
    "\n",
    "# Recognise Faces using some classification algorithm - like KNN\n",
    "\n",
    "\n",
    "# 1. load the training data (numpy arrays of all the persons)\n",
    "\t\t# x- values are stored in the numpy arrays\n",
    "\t\t# y- values we need to assign for each person\n",
    "# 2. Read a video stream using opencv\n",
    "# 3. extract faces out of it\n",
    "# 4. use knn to find the prediction of face (int)\n",
    "# 5. map the predicted id to name of the user \n",
    "# 6. Display the predictions on the screen - bounding box and name\n",
    "\n"
   ]
  },
  {
   "cell_type": "code",
   "execution_count": 35,
   "metadata": {},
   "outputs": [],
   "source": [
    "import numpy as np\n",
    "import pandas as pd\n",
    "import cv2\n",
    "import os"
   ]
  },
  {
   "cell_type": "code",
   "execution_count": 36,
   "metadata": {},
   "outputs": [],
   "source": [
    "all_names = os.listdir(\"data\")"
   ]
  },
  {
   "cell_type": "code",
   "execution_count": 60,
   "metadata": {},
   "outputs": [],
   "source": [
    "all_faces = []\n",
    "all_labels = []"
   ]
  },
  {
   "cell_type": "code",
   "execution_count": 61,
   "metadata": {},
   "outputs": [],
   "source": [
    "names = {}\n",
    "c = 0"
   ]
  },
  {
   "cell_type": "code",
   "execution_count": 62,
   "metadata": {},
   "outputs": [
    {
     "name": "stdout",
     "output_type": "stream",
     "text": [
      "vasu.npy loaded\n",
      "mohit.npy loaded\n"
     ]
    }
   ],
   "source": [
    "for name in all_names:    \n",
    "    print(name +\" loaded\")\n",
    "    \n",
    "    x= np.load(\"data/\"+name)\n",
    "    all_faces.append(x)\n",
    "    \n",
    "    l = c*np.ones(x.shape[0],)\n",
    "    all_labels.append(l)\n",
    "\n",
    "    if names.get(c) is None:\n",
    "        names[c] = name[:-4]\n",
    "        c +=1"
   ]
  },
  {
   "cell_type": "code",
   "execution_count": 65,
   "metadata": {},
   "outputs": [],
   "source": [
    "X = np.concatenate(all_faces, axis = 0)\n",
    "Y = np.concatenate(all_labels, axis = 0).reshape(-1, 1)"
   ]
  },
  {
   "cell_type": "code",
   "execution_count": 66,
   "metadata": {},
   "outputs": [
    {
     "data": {
      "text/plain": [
       "(16, 30000)"
      ]
     },
     "execution_count": 66,
     "metadata": {},
     "output_type": "execute_result"
    }
   ],
   "source": [
    "X.shape"
   ]
  },
  {
   "cell_type": "code",
   "execution_count": 67,
   "metadata": {},
   "outputs": [
    {
     "data": {
      "text/plain": [
       "(16, 1)"
      ]
     },
     "execution_count": 67,
     "metadata": {},
     "output_type": "execute_result"
    }
   ],
   "source": [
    "Y.shape"
   ]
  },
  {
   "cell_type": "code",
   "execution_count": 68,
   "metadata": {},
   "outputs": [
    {
     "data": {
      "text/plain": [
       "{0: 'vasu', 1: 'mohit'}"
      ]
     },
     "execution_count": 68,
     "metadata": {},
     "output_type": "execute_result"
    }
   ],
   "source": [
    "names"
   ]
  },
  {
   "cell_type": "code",
   "execution_count": 69,
   "metadata": {},
   "outputs": [],
   "source": [
    "def dist(v1, v2):\n",
    "    return np.sqrt(np.sum((v1-v2)**2))"
   ]
  },
  {
   "cell_type": "code",
   "execution_count": 70,
   "metadata": {},
   "outputs": [],
   "source": [
    "def knn(X, y, x_query, k = 5):\n",
    "    m = X.shape[0]\n",
    "    distances = []\n",
    "    for i in range(m):\n",
    "        d = dist(x_query, X[i])\n",
    "        distances.append((d, y[i]))\n",
    "        \n",
    "    distances = sorted(distances)[:k]\n",
    "    \n",
    "    distances = np.array(distances)\n",
    "    labels = distances[:, -1]\n",
    "    \n",
    "    \n",
    "    \n",
    "    labels, freq = np.unique(labels, return_counts=True)\n",
    "        \n",
    "    idx = np.argmax(freq)\n",
    "    pred = labels[idx]\n",
    "    \n",
    "    return pred"
   ]
  },
  {
   "cell_type": "code",
   "execution_count": null,
   "metadata": {},
   "outputs": [],
   "source": [
    "while True:\n",
    "    ret , frame = cam.read()\n",
    "    \n",
    "    if ret == False:\n",
    "        continue\n",
    "        \n",
    "    faces = face_cascade.detectMultiScale(frame, 1.5, 5)\n",
    "    \n",
    "    if len(faces)>0:\n",
    "        \n",
    "    \n",
    "\n",
    "\n",
    "        for face in faces:\n",
    "            x, y, w, h = face\n",
    "            frame = cv2.rectangle(frame, (x, y), (x+w,y+h), (255,255,255), 2)\n",
    "\n",
    "            offset = 5\n",
    "            face_section = frame[y-offset: y+h+offset , x- offset : x+w+ offset]\n",
    "\n",
    "            face_section = cv2.resize(face_section, (100,100))\n",
    "    \n",
    "            face_section = face_section.reshape(1, 30000)\n",
    "            \n",
    "            pred = knn(X, Y, face_section)\n",
    "            \n",
    "            name = names[int(pred)]\n",
    "            \n",
    "            cv2.putText(frame, name, (x, y-10), 2, (255,0,0), 2 , cv2.LINE_AA)\n",
    "            \n",
    "    \n",
    "    cv2.imshow(\"Face Detection\", frame)\n",
    "\n",
    "    \n",
    "    key_pressed = cv2.waitKey(1) & 0xFF\n",
    "    if key_pressed == ord('q'):\n",
    "        break\n",
    "    \n",
    "cam.release()\n",
    "cv2.destroyAllWindows()"
   ]
  }
 ],
 "metadata": {
  "kernelspec": {
   "display_name": "Python 3",
   "language": "python",
   "name": "python3"
  },
  "language_info": {
   "codemirror_mode": {
    "name": "ipython",
    "version": 3
   },
   "file_extension": ".py",
   "mimetype": "text/x-python",
   "name": "python",
   "nbconvert_exporter": "python",
   "pygments_lexer": "ipython3",
   "version": "3.7.4"
  }
 },
 "nbformat": 4,
 "nbformat_minor": 2
}
