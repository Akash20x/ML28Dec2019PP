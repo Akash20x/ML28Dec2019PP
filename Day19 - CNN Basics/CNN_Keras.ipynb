{
  "nbformat": 4,
  "nbformat_minor": 0,
  "metadata": {
    "colab": {
      "name": "CNN_Keras.ipynb",
      "provenance": []
    },
    "kernelspec": {
      "name": "python3",
      "display_name": "Python 3"
    },
    "accelerator": "GPU"
  },
  "cells": [
    {
      "cell_type": "code",
      "metadata": {
        "id": "6QHKwEA36dZV",
        "colab_type": "code",
        "outputId": "e9883123-bfd8-42a1-dc88-192383a1c075",
        "colab": {
          "base_uri": "https://localhost:8080/",
          "height": 77
        }
      },
      "source": [
        "\n",
        "from keras.layers import *\n",
        "from keras.models import Sequential"
      ],
      "execution_count": 0,
      "outputs": [
        {
          "output_type": "stream",
          "text": [
            "Using TensorFlow backend.\n"
          ],
          "name": "stderr"
        },
        {
          "output_type": "display_data",
          "data": {
            "text/html": [
              "<p style=\"color: red;\">\n",
              "The default version of TensorFlow in Colab will soon switch to TensorFlow 2.x.<br>\n",
              "We recommend you <a href=\"https://www.tensorflow.org/guide/migrate\" target=\"_blank\">upgrade</a> now \n",
              "or ensure your notebook will continue to use TensorFlow 1.x via the <code>%tensorflow_version 1.x</code> magic:\n",
              "<a href=\"https://colab.research.google.com/notebooks/tensorflow_version.ipynb\" target=\"_blank\">more info</a>.</p>\n"
            ],
            "text/plain": [
              "<IPython.core.display.HTML object>"
            ]
          },
          "metadata": {
            "tags": []
          }
        }
      ]
    },
    {
      "cell_type": "code",
      "metadata": {
        "id": "b4mRTWJe6kTt",
        "colab_type": "code",
        "outputId": "ec8e4f66-3b8d-4085-f385-ec85f412bea6",
        "colab": {
          "base_uri": "https://localhost:8080/",
          "height": 537
        }
      },
      "source": [
        "\n",
        "\n",
        "# MNIST Data - 10 Classes (0-9)\n",
        "model = Sequential()\n",
        "model.add(Conv2D(32,(3,3),activation='relu',input_shape=(28,28,1)))\n",
        "model.add(MaxPool2D((2,2)))\n",
        "model.add(Conv2D(64,(3,3),activation='relu')) \n",
        "model.add(MaxPool2D((2,2)))\n",
        "model.add(Conv2D(64,(3,3),activation='relu'))\n",
        "model.add(Flatten())\n",
        "model.add(Dense(64,activation='relu'))\n",
        "model.add(Dense(10,activation='softmax'))\n",
        "model.summary()"
      ],
      "execution_count": 0,
      "outputs": [
        {
          "output_type": "stream",
          "text": [
            "WARNING:tensorflow:From /usr/local/lib/python3.6/dist-packages/keras/backend/tensorflow_backend.py:66: The name tf.get_default_graph is deprecated. Please use tf.compat.v1.get_default_graph instead.\n",
            "\n",
            "WARNING:tensorflow:From /usr/local/lib/python3.6/dist-packages/keras/backend/tensorflow_backend.py:541: The name tf.placeholder is deprecated. Please use tf.compat.v1.placeholder instead.\n",
            "\n",
            "WARNING:tensorflow:From /usr/local/lib/python3.6/dist-packages/keras/backend/tensorflow_backend.py:4432: The name tf.random_uniform is deprecated. Please use tf.random.uniform instead.\n",
            "\n",
            "WARNING:tensorflow:From /usr/local/lib/python3.6/dist-packages/keras/backend/tensorflow_backend.py:4267: The name tf.nn.max_pool is deprecated. Please use tf.nn.max_pool2d instead.\n",
            "\n",
            "Model: \"sequential_1\"\n",
            "_________________________________________________________________\n",
            "Layer (type)                 Output Shape              Param #   \n",
            "=================================================================\n",
            "conv2d_1 (Conv2D)            (None, 26, 26, 32)        320       \n",
            "_________________________________________________________________\n",
            "max_pooling2d_1 (MaxPooling2 (None, 13, 13, 32)        0         \n",
            "_________________________________________________________________\n",
            "conv2d_2 (Conv2D)            (None, 11, 11, 64)        18496     \n",
            "_________________________________________________________________\n",
            "max_pooling2d_2 (MaxPooling2 (None, 5, 5, 64)          0         \n",
            "_________________________________________________________________\n",
            "conv2d_3 (Conv2D)            (None, 3, 3, 64)          36928     \n",
            "_________________________________________________________________\n",
            "flatten_1 (Flatten)          (None, 576)               0         \n",
            "_________________________________________________________________\n",
            "dense_1 (Dense)              (None, 64)                36928     \n",
            "_________________________________________________________________\n",
            "dense_2 (Dense)              (None, 10)                650       \n",
            "=================================================================\n",
            "Total params: 93,322\n",
            "Trainable params: 93,322\n",
            "Non-trainable params: 0\n",
            "_________________________________________________________________\n"
          ],
          "name": "stdout"
        }
      ]
    },
    {
      "cell_type": "code",
      "metadata": {
        "id": "HFE5qyIO6-hg",
        "colab_type": "code",
        "colab": {}
      },
      "source": [
        "from keras.datasets import mnist\n",
        "from keras.utils import to_categorical\n",
        "\n",
        "((XTrain,YTrain),(XTest,YTest)) = mnist.load_data()"
      ],
      "execution_count": 0,
      "outputs": []
    },
    {
      "cell_type": "code",
      "metadata": {
        "id": "GN2tin6O8q-j",
        "colab_type": "code",
        "outputId": "3582f958-8fa5-4cf3-c866-52645b51d6a6",
        "colab": {
          "base_uri": "https://localhost:8080/",
          "height": 50
        }
      },
      "source": [
        "print(XTrain.shape)\n",
        "\n",
        "def preprocess_data(X,Y):\n",
        "    X = X.reshape((-1,28,28,1))\n",
        "    X = X/255.0\n",
        "    Y = to_categorical(Y)\n",
        "    return X,Y\n",
        "\n",
        "XTrain,YTrain = preprocess_data(XTrain,YTrain)\n",
        "print(XTrain.shape,YTrain.shape)\n",
        "\n",
        "\n",
        "XTest,YTest = preprocess_data(XTest,YTest)"
      ],
      "execution_count": 0,
      "outputs": [
        {
          "output_type": "stream",
          "text": [
            "(60000, 28, 28)\n",
            "(60000, 28, 28, 1) (60000, 10)\n"
          ],
          "name": "stdout"
        }
      ]
    },
    {
      "cell_type": "code",
      "metadata": {
        "id": "y4Njzi3k945c",
        "colab_type": "code",
        "outputId": "3f60e95d-cda8-4b11-c309-227e634c09f6",
        "colab": {
          "base_uri": "https://localhost:8080/",
          "height": 265
        }
      },
      "source": [
        "import matplotlib.pyplot as plt\n",
        "plt.imshow(XTrain[0].reshape((28,28)),cmap='gray')\n",
        "plt.show()\n"
      ],
      "execution_count": 0,
      "outputs": [
        {
          "output_type": "display_data",
          "data": {
            "image/png": "[encoded data removed]",
            "text/plain": [
              "<Figure size 432x288 with 1 Axes>"
            ]
          },
          "metadata": {
            "tags": []
          }
        }
      ]
    },
    {
      "cell_type": "code",
      "metadata": {
        "id": "4s4XLBOG-TSW",
        "colab_type": "code",
        "outputId": "b7c2a7b4-1f67-49c4-b76e-6a002a449bb9",
        "colab": {
          "base_uri": "https://localhost:8080/",
          "height": 33
        }
      },
      "source": [
        "YTrain[0]"
      ],
      "execution_count": 0,
      "outputs": [
        {
          "output_type": "execute_result",
          "data": {
            "text/plain": [
              "array([0., 0., 0., 0., 0., 1., 0., 0., 0., 0.], dtype=float32)"
            ]
          },
          "metadata": {
            "tags": []
          },
          "execution_count": 16
        }
      ]
    },
    {
      "cell_type": "code",
      "metadata": {
        "id": "JaKTGZdY-ybe",
        "colab_type": "code",
        "outputId": "f67f059d-6253-4409-c891-f0edf9cbbf30",
        "colab": {
          "base_uri": "https://localhost:8080/",
          "height": 683
        }
      },
      "source": [
        "model.compile(optimizer='adam',loss='categorical_crossentropy',metrics=['accuracy'])\n",
        "\n",
        "\n",
        "hist = model.fit(XTrain,YTrain,epochs=20,validation_split=0.1,batch_size=128)"
      ],
      "execution_count": 0,
      "outputs": [
        {
          "output_type": "stream",
          "text": [
            "Train on 54000 samples, validate on 6000 samples\n",
            "Epoch 1/20\n",
            "54000/54000 [==============================] - 6s 117us/step - loss: 0.2869 - acc: 0.9100 - val_loss: 0.0564 - val_acc: 0.9833\n",
            "Epoch 2/20\n",
            "54000/54000 [==============================] - 6s 103us/step - loss: 0.0618 - acc: 0.9812 - val_loss: 0.0454 - val_acc: 0.9867\n",
            "Epoch 3/20\n",
            "54000/54000 [==============================] - 6s 102us/step - loss: 0.0451 - acc: 0.9860 - val_loss: 0.0454 - val_acc: 0.9865\n",
            "Epoch 4/20\n",
            "54000/54000 [==============================] - 6s 104us/step - loss: 0.0342 - acc: 0.9893 - val_loss: 0.0374 - val_acc: 0.9893\n",
            "Epoch 5/20\n",
            "54000/54000 [==============================] - 5s 102us/step - loss: 0.0284 - acc: 0.9912 - val_loss: 0.0359 - val_acc: 0.9893\n",
            "Epoch 6/20\n",
            "54000/54000 [==============================] - 5s 101us/step - loss: 0.0225 - acc: 0.9930 - val_loss: 0.0345 - val_acc: 0.9912\n",
            "Epoch 7/20\n",
            "54000/54000 [==============================] - 5s 101us/step - loss: 0.0202 - acc: 0.9932 - val_loss: 0.0373 - val_acc: 0.9893\n",
            "Epoch 8/20\n",
            "54000/54000 [==============================] - 6s 103us/step - loss: 0.0167 - acc: 0.9949 - val_loss: 0.0445 - val_acc: 0.9878\n",
            "Epoch 9/20\n",
            "54000/54000 [==============================] - 5s 102us/step - loss: 0.0156 - acc: 0.9951 - val_loss: 0.0366 - val_acc: 0.9895\n",
            "Epoch 10/20\n",
            "54000/54000 [==============================] - 5s 100us/step - loss: 0.0133 - acc: 0.9958 - val_loss: 0.0388 - val_acc: 0.9893\n",
            "Epoch 11/20\n",
            "54000/54000 [==============================] - 5s 101us/step - loss: 0.0109 - acc: 0.9962 - val_loss: 0.0416 - val_acc: 0.9897\n",
            "Epoch 12/20\n",
            "54000/54000 [==============================] - 5s 100us/step - loss: 0.0101 - acc: 0.9968 - val_loss: 0.0382 - val_acc: 0.9905\n",
            "Epoch 13/20\n",
            "54000/54000 [==============================] - 5s 101us/step - loss: 0.0076 - acc: 0.9974 - val_loss: 0.0421 - val_acc: 0.9908\n",
            "Epoch 14/20\n",
            "54000/54000 [==============================] - 5s 100us/step - loss: 0.0076 - acc: 0.9974 - val_loss: 0.0403 - val_acc: 0.9905\n",
            "Epoch 15/20\n",
            "54000/54000 [==============================] - 5s 101us/step - loss: 0.0094 - acc: 0.9966 - val_loss: 0.0371 - val_acc: 0.9913\n",
            "Epoch 16/20\n",
            "54000/54000 [==============================] - 6s 102us/step - loss: 0.0059 - acc: 0.9979 - val_loss: 0.0354 - val_acc: 0.9920\n",
            "Epoch 17/20\n",
            "54000/54000 [==============================] - 5s 100us/step - loss: 0.0070 - acc: 0.9976 - val_loss: 0.0349 - val_acc: 0.9920\n",
            "Epoch 18/20\n",
            "54000/54000 [==============================] - 5s 101us/step - loss: 0.0048 - acc: 0.9982 - val_loss: 0.0407 - val_acc: 0.9913\n",
            "Epoch 19/20\n",
            "54000/54000 [==============================] - 5s 101us/step - loss: 0.0046 - acc: 0.9983 - val_loss: 0.0461 - val_acc: 0.9900\n",
            "Epoch 20/20\n",
            "54000/54000 [==============================] - 5s 102us/step - loss: 0.0052 - acc: 0.9982 - val_loss: 0.0467 - val_acc: 0.9902\n"
          ],
          "name": "stdout"
        }
      ]
    },
    {
      "cell_type": "code",
      "metadata": {
        "id": "mc3jLTvc_qLq",
        "colab_type": "code",
        "outputId": "0d540b98-63c5-453e-b550-b93d04d380dc",
        "colab": {
          "base_uri": "https://localhost:8080/",
          "height": 50
        }
      },
      "source": [
        "model.evaluate(XTest,YTest)"
      ],
      "execution_count": 0,
      "outputs": [
        {
          "output_type": "stream",
          "text": [
            "10000/10000 [==============================] - 1s 92us/step\n"
          ],
          "name": "stdout"
        },
        {
          "output_type": "execute_result",
          "data": {
            "text/plain": [
              "[0.039451049690046106, 0.9902]"
            ]
          },
          "metadata": {
            "tags": []
          },
          "execution_count": 18
        }
      ]
    },
    {
      "cell_type": "code",
      "metadata": {
        "id": "ddd_9kz8A9Ti",
        "colab_type": "code",
        "colab": {}
      },
      "source": [
        ""
      ],
      "execution_count": 0,
      "outputs": []
    }
  ]
}